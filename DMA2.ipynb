{
 "cells": [
  {
   "cell_type": "code",
   "execution_count": 1,
   "metadata": {
    "colab": {
     "base_uri": "https://localhost:8080/"
    },
    "executionInfo": {
     "elapsed": 25833,
     "status": "ok",
     "timestamp": 1609207957356,
     "user": {
      "displayName": "陳韋翰",
      "photoUrl": "https://lh3.googleusercontent.com/a-/AOh14Ghi1AMrE6GtVMAxAHs-PKILXfKb-r-TU-g2C38=s64",
      "userId": "00149179302747416237"
     },
     "user_tz": -480
    },
    "id": "WzPZjxmQ1YW8",
    "outputId": "6d0b1c03-2c09-4ac6-a906-fd68d3629624"
   },
   "outputs": [],
   "source": [
    "import pandas as pd\n",
    "import numpy as np\n",
    "\n",
    "from sklearn.ensemble import RandomForestClassifier\n",
    "from sklearn.svm import SVC\n",
    "from sklearn.metrics import classification_report, confusion_matrix, roc_auc_score\n",
    "from sklearn.preprocessing import LabelEncoder"
   ]
  },
  {
   "cell_type": "code",
   "execution_count": 26,
   "metadata": {
    "executionInfo": {
     "elapsed": 884,
     "status": "ok",
     "timestamp": 1609208386223,
     "user": {
      "displayName": "陳韋翰",
      "photoUrl": "https://lh3.googleusercontent.com/a-/AOh14Ghi1AMrE6GtVMAxAHs-PKILXfKb-r-TU-g2C38=s64",
      "userId": "00149179302747416237"
     },
     "user_tz": -480
    },
    "id": "4UgzekfNXuhl"
   },
   "outputs": [],
   "source": [
    "# define some function to use\n",
    "\n",
    "from matplotlib import pyplot as plt\n",
    "import seaborn as sns\n",
    "\n",
    "def plot_cm(y_test, y_pred):\n",
    "    cm = confusion_matrix(y_true=y_test, y_pred=y_pred)\n",
    "    plt.figure(figsize=(5,5))\n",
    "    labels = ['No', 'Yes']\n",
    "    sns.heatmap(cm, annot=True, fmt=\"d\", xticklabels = labels, yticklabels = labels)\n",
    "    plt.title('Confusion matrix')\n",
    "    plt.ylabel('Actual')\n",
    "    plt.xlabel('Predicted')\n",
    "    plt.show()\n",
    "\n",
    "def auc(y_test, y_pred):\n",
    "    le = LabelEncoder()\n",
    "    y1 = le.fit_transform(y_test)\n",
    "    y2 = le.fit_transform(y_pred)\n",
    "    auc_score = roc_auc_score(y1,y2)\n",
    "    return auc_score"
   ]
  },
  {
   "cell_type": "code",
   "execution_count": null,
   "metadata": {
    "id": "K0JxtGCkTwZG"
   },
   "outputs": [],
   "source": [
    "\n",
    "\"\"\"\n",
    "#plot\n",
    "fig, ((ax1,ax2),(ax3,ax4)) = plt.subplots(2,2,sharey=True, figsize=(10, 8))\n",
    "sns.heatmap(cm, annot=True, fmt='d', xticklabels = labels, yticklabels = labels, ax = ax1)\n",
    "sns.heatmap(cm_pc2, annot=True, fmt='d', xticklabels = labels, yticklabels = labels, ax = ax2)\n",
    "sns.heatmap(cm_pc5, annot=True, fmt='d', xticklabels = labels, yticklabels = labels, ax = ax3)\n",
    "sns.heatmap(cm_pc10, annot=True, fmt='d', xticklabels = labels, yticklabels = labels, ax = ax4)\n",
    "ax1.set_title(label_list[0])\n",
    "ax2.set_title(label_list[1])\n",
    "ax3.set_title(label_list[2])\n",
    "ax4.set_title(label_list[3])\n",
    "\"\"\""
   ]
  },
  {
   "cell_type": "markdown",
   "metadata": {
    "id": "PMySzA5l1Vy_"
   },
   "source": [
    "## Load Data"
   ]
  },
  {
   "cell_type": "code",
   "execution_count": 39,
   "metadata": {
    "colab": {
     "base_uri": "https://localhost:8080/",
     "height": 0
    },
    "executionInfo": {
     "elapsed": 1229,
     "status": "ok",
     "timestamp": 1609210386807,
     "user": {
      "displayName": "陳韋翰",
      "photoUrl": "https://lh3.googleusercontent.com/a-/AOh14Ghi1AMrE6GtVMAxAHs-PKILXfKb-r-TU-g2C38=s64",
      "userId": "00149179302747416237"
     },
     "user_tz": -480
    },
    "id": "j9HTEgEvdocM",
    "outputId": "4ae74cdb-371a-4558-e947-06aa6730d698"
   },
   "outputs": [
    {
     "name": "stdout",
     "output_type": "stream",
     "text": [
      "training size :  1177\n",
      "testing size :  293\n",
      "Features : \n",
      " Index(['Age', 'Attrition', 'BusinessTravel', 'Department', 'DistanceFromHome',\n",
      "       'Education', 'EducationField', 'EmployeeNumber',\n",
      "       'EnvironmentSatisfaction', 'Gender', 'JobInvolvement', 'JobLevel',\n",
      "       'JobRole', 'JobSatisfaction', 'MaritalStatus', 'MonthlyIncome',\n",
      "       'NumCompaniesWorked', 'PerformanceRating', 'RelationshipSatisfaction',\n",
      "       'StockOptionLevel', 'TotalWorkingYears', 'TrainingTimesLastYear',\n",
      "       'WorkLifeBalance', 'YearsAtCompany', 'YearsInCurrentRole',\n",
      "       'YearsSinceLastPromotion', 'YearsWithCurrManager'],\n",
      "      dtype='object')\n"
     ]
    },
    {
     "data": {
      "text/html": [
       "<div>\n",
       "<style scoped>\n",
       "    .dataframe tbody tr th:only-of-type {\n",
       "        vertical-align: middle;\n",
       "    }\n",
       "\n",
       "    .dataframe tbody tr th {\n",
       "        vertical-align: top;\n",
       "    }\n",
       "\n",
       "    .dataframe thead th {\n",
       "        text-align: right;\n",
       "    }\n",
       "</style>\n",
       "<table border=\"1\" class=\"dataframe\">\n",
       "  <thead>\n",
       "    <tr style=\"text-align: right;\">\n",
       "      <th></th>\n",
       "      <th>Age</th>\n",
       "      <th>Attrition</th>\n",
       "      <th>BusinessTravel</th>\n",
       "      <th>Department</th>\n",
       "      <th>DistanceFromHome</th>\n",
       "      <th>Education</th>\n",
       "      <th>EducationField</th>\n",
       "      <th>EmployeeNumber</th>\n",
       "      <th>EnvironmentSatisfaction</th>\n",
       "      <th>Gender</th>\n",
       "      <th>JobInvolvement</th>\n",
       "      <th>JobLevel</th>\n",
       "      <th>JobRole</th>\n",
       "      <th>JobSatisfaction</th>\n",
       "      <th>MaritalStatus</th>\n",
       "      <th>MonthlyIncome</th>\n",
       "      <th>NumCompaniesWorked</th>\n",
       "      <th>PerformanceRating</th>\n",
       "      <th>RelationshipSatisfaction</th>\n",
       "      <th>StockOptionLevel</th>\n",
       "      <th>TotalWorkingYears</th>\n",
       "      <th>TrainingTimesLastYear</th>\n",
       "      <th>WorkLifeBalance</th>\n",
       "      <th>YearsAtCompany</th>\n",
       "      <th>YearsInCurrentRole</th>\n",
       "      <th>YearsSinceLastPromotion</th>\n",
       "      <th>YearsWithCurrManager</th>\n",
       "    </tr>\n",
       "  </thead>\n",
       "  <tbody>\n",
       "    <tr>\n",
       "      <th>0</th>\n",
       "      <td>41</td>\n",
       "      <td>Yes</td>\n",
       "      <td>Travel_Rarely</td>\n",
       "      <td>Sales</td>\n",
       "      <td>1</td>\n",
       "      <td>2</td>\n",
       "      <td>Life Sciences</td>\n",
       "      <td>1</td>\n",
       "      <td>2</td>\n",
       "      <td>Female</td>\n",
       "      <td>3</td>\n",
       "      <td>2</td>\n",
       "      <td>Sales Executive</td>\n",
       "      <td>4</td>\n",
       "      <td>Single</td>\n",
       "      <td>5993</td>\n",
       "      <td>8</td>\n",
       "      <td>3</td>\n",
       "      <td>1</td>\n",
       "      <td>0</td>\n",
       "      <td>8</td>\n",
       "      <td>0</td>\n",
       "      <td>1</td>\n",
       "      <td>6</td>\n",
       "      <td>4</td>\n",
       "      <td>0</td>\n",
       "      <td>5</td>\n",
       "    </tr>\n",
       "    <tr>\n",
       "      <th>1</th>\n",
       "      <td>49</td>\n",
       "      <td>No</td>\n",
       "      <td>Travel_Frequently</td>\n",
       "      <td>Research &amp; Development</td>\n",
       "      <td>8</td>\n",
       "      <td>1</td>\n",
       "      <td>Life Sciences</td>\n",
       "      <td>2</td>\n",
       "      <td>3</td>\n",
       "      <td>Male</td>\n",
       "      <td>2</td>\n",
       "      <td>2</td>\n",
       "      <td>Research Scientist</td>\n",
       "      <td>2</td>\n",
       "      <td>Married</td>\n",
       "      <td>5130</td>\n",
       "      <td>1</td>\n",
       "      <td>4</td>\n",
       "      <td>4</td>\n",
       "      <td>1</td>\n",
       "      <td>10</td>\n",
       "      <td>3</td>\n",
       "      <td>3</td>\n",
       "      <td>10</td>\n",
       "      <td>7</td>\n",
       "      <td>1</td>\n",
       "      <td>7</td>\n",
       "    </tr>\n",
       "    <tr>\n",
       "      <th>2</th>\n",
       "      <td>37</td>\n",
       "      <td>Yes</td>\n",
       "      <td>Travel_Rarely</td>\n",
       "      <td>Research &amp; Development</td>\n",
       "      <td>2</td>\n",
       "      <td>2</td>\n",
       "      <td>Other</td>\n",
       "      <td>4</td>\n",
       "      <td>4</td>\n",
       "      <td>Male</td>\n",
       "      <td>2</td>\n",
       "      <td>1</td>\n",
       "      <td>Laboratory Technician</td>\n",
       "      <td>3</td>\n",
       "      <td>Single</td>\n",
       "      <td>2090</td>\n",
       "      <td>6</td>\n",
       "      <td>3</td>\n",
       "      <td>2</td>\n",
       "      <td>0</td>\n",
       "      <td>7</td>\n",
       "      <td>3</td>\n",
       "      <td>3</td>\n",
       "      <td>0</td>\n",
       "      <td>0</td>\n",
       "      <td>0</td>\n",
       "      <td>0</td>\n",
       "    </tr>\n",
       "    <tr>\n",
       "      <th>3</th>\n",
       "      <td>33</td>\n",
       "      <td>No</td>\n",
       "      <td>Travel_Frequently</td>\n",
       "      <td>Research &amp; Development</td>\n",
       "      <td>3</td>\n",
       "      <td>4</td>\n",
       "      <td>Life Sciences</td>\n",
       "      <td>5</td>\n",
       "      <td>4</td>\n",
       "      <td>Female</td>\n",
       "      <td>3</td>\n",
       "      <td>1</td>\n",
       "      <td>Research Scientist</td>\n",
       "      <td>3</td>\n",
       "      <td>Married</td>\n",
       "      <td>2909</td>\n",
       "      <td>1</td>\n",
       "      <td>3</td>\n",
       "      <td>3</td>\n",
       "      <td>0</td>\n",
       "      <td>8</td>\n",
       "      <td>3</td>\n",
       "      <td>3</td>\n",
       "      <td>8</td>\n",
       "      <td>7</td>\n",
       "      <td>3</td>\n",
       "      <td>0</td>\n",
       "    </tr>\n",
       "    <tr>\n",
       "      <th>4</th>\n",
       "      <td>27</td>\n",
       "      <td>No</td>\n",
       "      <td>Travel_Rarely</td>\n",
       "      <td>Research &amp; Development</td>\n",
       "      <td>2</td>\n",
       "      <td>1</td>\n",
       "      <td>Medical</td>\n",
       "      <td>7</td>\n",
       "      <td>1</td>\n",
       "      <td>Male</td>\n",
       "      <td>3</td>\n",
       "      <td>1</td>\n",
       "      <td>Laboratory Technician</td>\n",
       "      <td>2</td>\n",
       "      <td>Married</td>\n",
       "      <td>3468</td>\n",
       "      <td>9</td>\n",
       "      <td>3</td>\n",
       "      <td>4</td>\n",
       "      <td>1</td>\n",
       "      <td>6</td>\n",
       "      <td>3</td>\n",
       "      <td>3</td>\n",
       "      <td>2</td>\n",
       "      <td>2</td>\n",
       "      <td>2</td>\n",
       "      <td>2</td>\n",
       "    </tr>\n",
       "  </tbody>\n",
       "</table>\n",
       "</div>"
      ],
      "text/plain": [
       "   Age Attrition  ... YearsSinceLastPromotion YearsWithCurrManager\n",
       "0   41       Yes  ...                       0                    5\n",
       "1   49        No  ...                       1                    7\n",
       "2   37       Yes  ...                       0                    0\n",
       "3   33        No  ...                       3                    0\n",
       "4   27        No  ...                       2                    2\n",
       "\n",
       "[5 rows x 27 columns]"
      ]
     },
     "execution_count": 39,
     "metadata": {
      "tags": []
     },
     "output_type": "execute_result"
    }
   ],
   "source": [
    "train_df = pd.read_csv('/content/drive/My Drive/HW/DMA2/training.csv')  \n",
    "test_df = pd.read_csv('/content/drive/My Drive/HW/DMA2/testing.csv')  \n",
    "print('training size : ', train_df.shape[0]) \n",
    "print('testing size : ', test_df.shape[0])  \n",
    "print('Features : \\n', train_df.columns)\n",
    "\n",
    "train_df.head(5)"
   ]
  },
  {
   "cell_type": "markdown",
   "metadata": {
    "id": "2G5u2L7HyIuc"
   },
   "source": [
    "## Preprocess"
   ]
  },
  {
   "cell_type": "markdown",
   "metadata": {
    "id": "Zsz-t4UHV9SJ"
   },
   "source": [
    "#### onthot"
   ]
  },
  {
   "cell_type": "code",
   "execution_count": 40,
   "metadata": {
    "executionInfo": {
     "elapsed": 1644,
     "status": "ok",
     "timestamp": 1609210388048,
     "user": {
      "displayName": "陳韋翰",
      "photoUrl": "https://lh3.googleusercontent.com/a-/AOh14Ghi1AMrE6GtVMAxAHs-PKILXfKb-r-TU-g2C38=s64",
      "userId": "00149179302747416237"
     },
     "user_tz": -480
    },
    "id": "NhfPv0k_w_Al"
   },
   "outputs": [],
   "source": [
    "X_train, y_train = train_df.loc[:, train_df.columns != 'Attrition'], train_df['Attrition']\n",
    "X_test, y_test = test_df.loc[:, test_df.columns != 'Attrition'], test_df['Attrition']"
   ]
  },
  {
   "cell_type": "code",
   "execution_count": 41,
   "metadata": {
    "colab": {
     "base_uri": "https://localhost:8080/",
     "height": 0
    },
    "executionInfo": {
     "elapsed": 2405,
     "status": "ok",
     "timestamp": 1609210388817,
     "user": {
      "displayName": "陳韋翰",
      "photoUrl": "https://lh3.googleusercontent.com/a-/AOh14Ghi1AMrE6GtVMAxAHs-PKILXfKb-r-TU-g2C38=s64",
      "userId": "00149179302747416237"
     },
     "user_tz": -480
    },
    "id": "qguyyJW6tpHT",
    "outputId": "53e7d69a-7b5a-42cc-d715-a88d3661b070"
   },
   "outputs": [
    {
     "data": {
      "text/html": [
       "<div>\n",
       "<style scoped>\n",
       "    .dataframe tbody tr th:only-of-type {\n",
       "        vertical-align: middle;\n",
       "    }\n",
       "\n",
       "    .dataframe tbody tr th {\n",
       "        vertical-align: top;\n",
       "    }\n",
       "\n",
       "    .dataframe thead th {\n",
       "        text-align: right;\n",
       "    }\n",
       "</style>\n",
       "<table border=\"1\" class=\"dataframe\">\n",
       "  <thead>\n",
       "    <tr style=\"text-align: right;\">\n",
       "      <th></th>\n",
       "      <th>Age</th>\n",
       "      <th>DistanceFromHome</th>\n",
       "      <th>Education</th>\n",
       "      <th>EmployeeNumber</th>\n",
       "      <th>EnvironmentSatisfaction</th>\n",
       "      <th>JobInvolvement</th>\n",
       "      <th>JobLevel</th>\n",
       "      <th>JobSatisfaction</th>\n",
       "      <th>MonthlyIncome</th>\n",
       "      <th>NumCompaniesWorked</th>\n",
       "      <th>PerformanceRating</th>\n",
       "      <th>RelationshipSatisfaction</th>\n",
       "      <th>StockOptionLevel</th>\n",
       "      <th>TotalWorkingYears</th>\n",
       "      <th>TrainingTimesLastYear</th>\n",
       "      <th>WorkLifeBalance</th>\n",
       "      <th>YearsAtCompany</th>\n",
       "      <th>YearsInCurrentRole</th>\n",
       "      <th>YearsSinceLastPromotion</th>\n",
       "      <th>YearsWithCurrManager</th>\n",
       "      <th>BusinessTravel_Non-Travel</th>\n",
       "      <th>BusinessTravel_Travel_Frequently</th>\n",
       "      <th>BusinessTravel_Travel_Rarely</th>\n",
       "      <th>Department_Human Resources</th>\n",
       "      <th>Department_Research &amp; Development</th>\n",
       "      <th>Department_Sales</th>\n",
       "      <th>EducationField_Human Resources</th>\n",
       "      <th>EducationField_Life Sciences</th>\n",
       "      <th>EducationField_Marketing</th>\n",
       "      <th>EducationField_Medical</th>\n",
       "      <th>EducationField_Other</th>\n",
       "      <th>EducationField_Technical Degree</th>\n",
       "      <th>Gender_Female</th>\n",
       "      <th>Gender_Male</th>\n",
       "      <th>JobRole_Healthcare Representative</th>\n",
       "      <th>JobRole_Human Resources</th>\n",
       "      <th>JobRole_Laboratory Technician</th>\n",
       "      <th>JobRole_Manager</th>\n",
       "      <th>JobRole_Manufacturing Director</th>\n",
       "      <th>JobRole_Research Director</th>\n",
       "      <th>JobRole_Research Scientist</th>\n",
       "      <th>JobRole_Sales Executive</th>\n",
       "      <th>JobRole_Sales Representative</th>\n",
       "      <th>MaritalStatus_Divorced</th>\n",
       "      <th>MaritalStatus_Married</th>\n",
       "      <th>MaritalStatus_Single</th>\n",
       "    </tr>\n",
       "  </thead>\n",
       "  <tbody>\n",
       "    <tr>\n",
       "      <th>0</th>\n",
       "      <td>41</td>\n",
       "      <td>1</td>\n",
       "      <td>2</td>\n",
       "      <td>1</td>\n",
       "      <td>2</td>\n",
       "      <td>3</td>\n",
       "      <td>2</td>\n",
       "      <td>4</td>\n",
       "      <td>5993</td>\n",
       "      <td>8</td>\n",
       "      <td>3</td>\n",
       "      <td>1</td>\n",
       "      <td>0</td>\n",
       "      <td>8</td>\n",
       "      <td>0</td>\n",
       "      <td>1</td>\n",
       "      <td>6</td>\n",
       "      <td>4</td>\n",
       "      <td>0</td>\n",
       "      <td>5</td>\n",
       "      <td>0</td>\n",
       "      <td>0</td>\n",
       "      <td>1</td>\n",
       "      <td>0</td>\n",
       "      <td>0</td>\n",
       "      <td>1</td>\n",
       "      <td>0</td>\n",
       "      <td>1</td>\n",
       "      <td>0</td>\n",
       "      <td>0</td>\n",
       "      <td>0</td>\n",
       "      <td>0</td>\n",
       "      <td>1</td>\n",
       "      <td>0</td>\n",
       "      <td>0</td>\n",
       "      <td>0</td>\n",
       "      <td>0</td>\n",
       "      <td>0</td>\n",
       "      <td>0</td>\n",
       "      <td>0</td>\n",
       "      <td>0</td>\n",
       "      <td>1</td>\n",
       "      <td>0</td>\n",
       "      <td>0</td>\n",
       "      <td>0</td>\n",
       "      <td>1</td>\n",
       "    </tr>\n",
       "    <tr>\n",
       "      <th>1</th>\n",
       "      <td>49</td>\n",
       "      <td>8</td>\n",
       "      <td>1</td>\n",
       "      <td>2</td>\n",
       "      <td>3</td>\n",
       "      <td>2</td>\n",
       "      <td>2</td>\n",
       "      <td>2</td>\n",
       "      <td>5130</td>\n",
       "      <td>1</td>\n",
       "      <td>4</td>\n",
       "      <td>4</td>\n",
       "      <td>1</td>\n",
       "      <td>10</td>\n",
       "      <td>3</td>\n",
       "      <td>3</td>\n",
       "      <td>10</td>\n",
       "      <td>7</td>\n",
       "      <td>1</td>\n",
       "      <td>7</td>\n",
       "      <td>0</td>\n",
       "      <td>1</td>\n",
       "      <td>0</td>\n",
       "      <td>0</td>\n",
       "      <td>1</td>\n",
       "      <td>0</td>\n",
       "      <td>0</td>\n",
       "      <td>1</td>\n",
       "      <td>0</td>\n",
       "      <td>0</td>\n",
       "      <td>0</td>\n",
       "      <td>0</td>\n",
       "      <td>0</td>\n",
       "      <td>1</td>\n",
       "      <td>0</td>\n",
       "      <td>0</td>\n",
       "      <td>0</td>\n",
       "      <td>0</td>\n",
       "      <td>0</td>\n",
       "      <td>0</td>\n",
       "      <td>1</td>\n",
       "      <td>0</td>\n",
       "      <td>0</td>\n",
       "      <td>0</td>\n",
       "      <td>1</td>\n",
       "      <td>0</td>\n",
       "    </tr>\n",
       "    <tr>\n",
       "      <th>2</th>\n",
       "      <td>37</td>\n",
       "      <td>2</td>\n",
       "      <td>2</td>\n",
       "      <td>4</td>\n",
       "      <td>4</td>\n",
       "      <td>2</td>\n",
       "      <td>1</td>\n",
       "      <td>3</td>\n",
       "      <td>2090</td>\n",
       "      <td>6</td>\n",
       "      <td>3</td>\n",
       "      <td>2</td>\n",
       "      <td>0</td>\n",
       "      <td>7</td>\n",
       "      <td>3</td>\n",
       "      <td>3</td>\n",
       "      <td>0</td>\n",
       "      <td>0</td>\n",
       "      <td>0</td>\n",
       "      <td>0</td>\n",
       "      <td>0</td>\n",
       "      <td>0</td>\n",
       "      <td>1</td>\n",
       "      <td>0</td>\n",
       "      <td>1</td>\n",
       "      <td>0</td>\n",
       "      <td>0</td>\n",
       "      <td>0</td>\n",
       "      <td>0</td>\n",
       "      <td>0</td>\n",
       "      <td>1</td>\n",
       "      <td>0</td>\n",
       "      <td>0</td>\n",
       "      <td>1</td>\n",
       "      <td>0</td>\n",
       "      <td>0</td>\n",
       "      <td>1</td>\n",
       "      <td>0</td>\n",
       "      <td>0</td>\n",
       "      <td>0</td>\n",
       "      <td>0</td>\n",
       "      <td>0</td>\n",
       "      <td>0</td>\n",
       "      <td>0</td>\n",
       "      <td>0</td>\n",
       "      <td>1</td>\n",
       "    </tr>\n",
       "    <tr>\n",
       "      <th>3</th>\n",
       "      <td>33</td>\n",
       "      <td>3</td>\n",
       "      <td>4</td>\n",
       "      <td>5</td>\n",
       "      <td>4</td>\n",
       "      <td>3</td>\n",
       "      <td>1</td>\n",
       "      <td>3</td>\n",
       "      <td>2909</td>\n",
       "      <td>1</td>\n",
       "      <td>3</td>\n",
       "      <td>3</td>\n",
       "      <td>0</td>\n",
       "      <td>8</td>\n",
       "      <td>3</td>\n",
       "      <td>3</td>\n",
       "      <td>8</td>\n",
       "      <td>7</td>\n",
       "      <td>3</td>\n",
       "      <td>0</td>\n",
       "      <td>0</td>\n",
       "      <td>1</td>\n",
       "      <td>0</td>\n",
       "      <td>0</td>\n",
       "      <td>1</td>\n",
       "      <td>0</td>\n",
       "      <td>0</td>\n",
       "      <td>1</td>\n",
       "      <td>0</td>\n",
       "      <td>0</td>\n",
       "      <td>0</td>\n",
       "      <td>0</td>\n",
       "      <td>1</td>\n",
       "      <td>0</td>\n",
       "      <td>0</td>\n",
       "      <td>0</td>\n",
       "      <td>0</td>\n",
       "      <td>0</td>\n",
       "      <td>0</td>\n",
       "      <td>0</td>\n",
       "      <td>1</td>\n",
       "      <td>0</td>\n",
       "      <td>0</td>\n",
       "      <td>0</td>\n",
       "      <td>1</td>\n",
       "      <td>0</td>\n",
       "    </tr>\n",
       "    <tr>\n",
       "      <th>4</th>\n",
       "      <td>27</td>\n",
       "      <td>2</td>\n",
       "      <td>1</td>\n",
       "      <td>7</td>\n",
       "      <td>1</td>\n",
       "      <td>3</td>\n",
       "      <td>1</td>\n",
       "      <td>2</td>\n",
       "      <td>3468</td>\n",
       "      <td>9</td>\n",
       "      <td>3</td>\n",
       "      <td>4</td>\n",
       "      <td>1</td>\n",
       "      <td>6</td>\n",
       "      <td>3</td>\n",
       "      <td>3</td>\n",
       "      <td>2</td>\n",
       "      <td>2</td>\n",
       "      <td>2</td>\n",
       "      <td>2</td>\n",
       "      <td>0</td>\n",
       "      <td>0</td>\n",
       "      <td>1</td>\n",
       "      <td>0</td>\n",
       "      <td>1</td>\n",
       "      <td>0</td>\n",
       "      <td>0</td>\n",
       "      <td>0</td>\n",
       "      <td>0</td>\n",
       "      <td>1</td>\n",
       "      <td>0</td>\n",
       "      <td>0</td>\n",
       "      <td>0</td>\n",
       "      <td>1</td>\n",
       "      <td>0</td>\n",
       "      <td>0</td>\n",
       "      <td>1</td>\n",
       "      <td>0</td>\n",
       "      <td>0</td>\n",
       "      <td>0</td>\n",
       "      <td>0</td>\n",
       "      <td>0</td>\n",
       "      <td>0</td>\n",
       "      <td>0</td>\n",
       "      <td>1</td>\n",
       "      <td>0</td>\n",
       "    </tr>\n",
       "  </tbody>\n",
       "</table>\n",
       "</div>"
      ],
      "text/plain": [
       "   Age  DistanceFromHome  ...  MaritalStatus_Married  MaritalStatus_Single\n",
       "0   41                 1  ...                      0                     1\n",
       "1   49                 8  ...                      1                     0\n",
       "2   37                 2  ...                      0                     1\n",
       "3   33                 3  ...                      1                     0\n",
       "4   27                 2  ...                      1                     0\n",
       "\n",
       "[5 rows x 46 columns]"
      ]
     },
     "execution_count": 41,
     "metadata": {
      "tags": []
     },
     "output_type": "execute_result"
    }
   ],
   "source": [
    "categorical_columns = ['BusinessTravel', 'Department', 'EducationField', 'Gender', 'JobRole', 'MaritalStatus']\n",
    "X_train = pd.get_dummies(X_train, columns = categorical_columns, prefix = categorical_columns)\n",
    "X_test = pd.get_dummies(X_test, columns = categorical_columns, prefix = categorical_columns)\n",
    "X_train.head(5)"
   ]
  },
  {
   "cell_type": "markdown",
   "metadata": {
    "id": "PXtI6ryPPn47"
   },
   "source": [
    "#### define oversample function"
   ]
  },
  {
   "cell_type": "code",
   "execution_count": 42,
   "metadata": {
    "executionInfo": {
     "elapsed": 2398,
     "status": "ok",
     "timestamp": 1609210388819,
     "user": {
      "displayName": "陳韋翰",
      "photoUrl": "https://lh3.googleusercontent.com/a-/AOh14Ghi1AMrE6GtVMAxAHs-PKILXfKb-r-TU-g2C38=s64",
      "userId": "00149179302747416237"
     },
     "user_tz": -480
    },
    "id": "fuwuQdbmPgss"
   },
   "outputs": [],
   "source": [
    "from imblearn.over_sampling import SMOTE\n",
    "from imblearn.combine import SMOTETomek\n",
    "from imblearn.combine import SMOTEENN\n",
    "\n",
    "# define oversampling function\n",
    "def oversam(X_train, y_train, mode = 'SMOTE'):\n",
    "    col = X_train.columns\n",
    "\n",
    "    if mode == 'SMOTE':\n",
    "    oversampler = SMOTE(ratio='minority')\n",
    "    elif mode == 'SMOTETomek':\n",
    "    oversampler = SMOTETomek(ratio='minority')\n",
    "    elif mode == 'SMOTEENN':\n",
    "    oversampler = SMOTEENN(ratio='minority')\n",
    "    X_train, y_train = oversampler.fit_sample(X_train, y_train)\n",
    "    X_train = pd.DataFrame(X_train, columns = col)\n",
    "    y_train = pd.Series(y_train)\n",
    "\n",
    "    return X_train, y_train "
   ]
  },
  {
   "cell_type": "code",
   "execution_count": 43,
   "metadata": {
    "colab": {
     "base_uri": "https://localhost:8080/",
     "height": 0
    },
    "executionInfo": {
     "elapsed": 2393,
     "status": "ok",
     "timestamp": 1609210388820,
     "user": {
      "displayName": "陳韋翰",
      "photoUrl": "https://lh3.googleusercontent.com/a-/AOh14Ghi1AMrE6GtVMAxAHs-PKILXfKb-r-TU-g2C38=s64",
      "userId": "00149179302747416237"
     },
     "user_tz": -480
    },
    "id": "xOc7sT96golM",
    "outputId": "10d1506d-61c9-4b8d-a571-73c606df23de"
   },
   "outputs": [
    {
     "name": "stderr",
     "output_type": "stream",
     "text": [
      "/usr/local/lib/python3.6/dist-packages/sklearn/utils/deprecation.py:87: FutureWarning: Function safe_indexing is deprecated; safe_indexing is deprecated in version 0.22 and will be removed in version 0.24.\n",
      "  warnings.warn(msg, category=FutureWarning)\n",
      "/usr/local/lib/python3.6/dist-packages/sklearn/utils/deprecation.py:87: FutureWarning: Function safe_indexing is deprecated; safe_indexing is deprecated in version 0.22 and will be removed in version 0.24.\n",
      "  warnings.warn(msg, category=FutureWarning)\n",
      "/usr/local/lib/python3.6/dist-packages/sklearn/utils/deprecation.py:87: FutureWarning: Function safe_indexing is deprecated; safe_indexing is deprecated in version 0.22 and will be removed in version 0.24.\n",
      "  warnings.warn(msg, category=FutureWarning)\n",
      "/usr/local/lib/python3.6/dist-packages/sklearn/utils/deprecation.py:87: FutureWarning: Function safe_indexing is deprecated; safe_indexing is deprecated in version 0.22 and will be removed in version 0.24.\n",
      "  warnings.warn(msg, category=FutureWarning)\n",
      "/usr/local/lib/python3.6/dist-packages/sklearn/utils/deprecation.py:87: FutureWarning: Function safe_indexing is deprecated; safe_indexing is deprecated in version 0.22 and will be removed in version 0.24.\n",
      "  warnings.warn(msg, category=FutureWarning)\n",
      "/usr/local/lib/python3.6/dist-packages/sklearn/utils/deprecation.py:87: FutureWarning: Function safe_indexing is deprecated; safe_indexing is deprecated in version 0.22 and will be removed in version 0.24.\n",
      "  warnings.warn(msg, category=FutureWarning)\n",
      "/usr/local/lib/python3.6/dist-packages/sklearn/utils/deprecation.py:87: FutureWarning: Function safe_indexing is deprecated; safe_indexing is deprecated in version 0.22 and will be removed in version 0.24.\n",
      "  warnings.warn(msg, category=FutureWarning)\n"
     ]
    },
    {
     "data": {
      "text/plain": [
       "<matplotlib.legend.Legend at 0x7fd3f8b7cd68>"
      ]
     },
     "execution_count": 43,
     "metadata": {
      "tags": []
     },
     "output_type": "execute_result"
    },
    {
     "data": {
      "image/png": "[encoded data removed]",
      "text/plain": [
       "<Figure size 432x288 with 1 Axes>"
      ]
     },
     "metadata": {
      "needs_background": "light",
      "tags": []
     },
     "output_type": "display_data"
    }
   ],
   "source": [
    "# plot graph to see the nuber of each class between different over sampling method\n",
    "\n",
    "x_smote, y_smote = oversam(X_train, y_train, mode = 'SMOTE')\n",
    "x_smote_to, y_smote_to = oversam(X_train, y_train, mode = 'SMOTETomek')\n",
    "x_smote_enn, y_smote_enn = oversam(X_train, y_train, mode = 'SMOTEENN')\n",
    "\n",
    "label_list = ['Original', 'Smote', 'Smote+Tomek', 'Smote+ENN']\n",
    "num_list1 = [y_train.value_counts()[0], y_smote.value_counts()[0], y_smote_to.value_counts()[0], y_smote_enn.value_counts()[0]]      \n",
    "num_list2 = [y_train.value_counts()[1], y_smote.value_counts()[1], y_smote_to.value_counts()[1], y_smote_enn.value_counts()[1]] \n",
    "\n",
    "x = range(len(num_list1))\n",
    "rects1 = plt.bar(x = x, height = num_list1, width=0.4, alpha=0.7, color='red', label='No')\n",
    "for i in range(len(num_list1)):\n",
    "    plt.text(i-0.1, y = num_list1[i]+50, s = num_list1[i])\n",
    "rects2 = plt.bar(x=[i + 0.4 for i in x], height = num_list2, width=0.4, alpha=0.7, color='green', label='Yes')\n",
    "for i in range(len(num_list2)):\n",
    "    plt.text(i+0.28, y = num_list2[i]+50, s = num_list2[i])\n",
    "plt.ylim(0, 1400)\n",
    "plt.ylabel(\"num\")\n",
    "plt.xticks([index + 0.2 for index in x], label_list)\n",
    "plt.xlabel(\"method\")\n",
    "plt.title(\"sample number\")\n",
    "plt.legend()"
   ]
  },
  {
   "cell_type": "markdown",
   "metadata": {
    "id": "gBZgDzLfwbkv"
   },
   "source": [
    "#### define PCA function"
   ]
  },
  {
   "cell_type": "code",
   "execution_count": 44,
   "metadata": {
    "executionInfo": {
     "elapsed": 2830,
     "status": "ok",
     "timestamp": 1609210389265,
     "user": {
      "displayName": "陳韋翰",
      "photoUrl": "https://lh3.googleusercontent.com/a-/AOh14Ghi1AMrE6GtVMAxAHs-PKILXfKb-r-TU-g2C38=s64",
      "userId": "00149179302747416237"
     },
     "user_tz": -480
    },
    "id": "0WASu3vWwdte"
   },
   "outputs": [],
   "source": [
    "from sklearn.decomposition import PCA\n",
    "\n",
    "def pca_dec(X_train, X_test, n): \n",
    "    pca = PCA(n_components = n)\n",
    "    pca.fit(X_train)\n",
    "    pca.fit(X_test)\n",
    "    X_train_pc = pca.transform(X_train)\n",
    "    X_test_pc = pca.transform(X_test)\n",
    "    return X_train_pc, X_test_pc"
   ]
  },
  {
   "cell_type": "markdown",
   "metadata": {
    "id": "3-JaeJjbyMju"
   },
   "source": [
    "## define Classifier"
   ]
  },
  {
   "cell_type": "markdown",
   "metadata": {
    "id": "C7HUt8eD2iy4"
   },
   "source": [
    "#### rf"
   ]
  },
  {
   "cell_type": "code",
   "execution_count": 86,
   "metadata": {
    "colab": {
     "base_uri": "https://localhost:8080/",
     "height": 537
    },
    "executionInfo": {
     "elapsed": 2337,
     "status": "ok",
     "timestamp": 1609211205682,
     "user": {
      "displayName": "陳韋翰",
      "photoUrl": "https://lh3.googleusercontent.com/a-/AOh14Ghi1AMrE6GtVMAxAHs-PKILXfKb-r-TU-g2C38=s64",
      "userId": "00149179302747416237"
     },
     "user_tz": -480
    },
    "id": "0RWMov8lpwVD",
    "outputId": "5d1fce07-a290-4dcc-b544-55f1a497a32f"
   },
   "outputs": [
    {
     "name": "stdout",
     "output_type": "stream",
     "text": [
      "AUC :  0.5916796402006572 \n",
      "\n",
      "              precision    recall  f1-score   support\n",
      "\n",
      "          No       0.87      0.99      0.92       246\n",
      "         Yes       0.82      0.19      0.31        47\n",
      "\n",
      "    accuracy                           0.86       293\n",
      "   macro avg       0.84      0.59      0.62       293\n",
      "weighted avg       0.86      0.86      0.83       293\n",
      "\n"
     ]
    },
    {
     "data": {
      "image/png": "[encoded data removed]",
      "text/plain": [
       "<Figure size 360x360 with 2 Axes>"
      ]
     },
     "metadata": {
      "needs_background": "light",
      "tags": []
     },
     "output_type": "display_data"
    }
   ],
   "source": [
    "def rf (X_train, y_train, X_test, y_test, plot = False, report = False):\n",
    "    rf_clf = RandomForestClassifier(n_estimators = 100, random_state = 1234)\n",
    "    rf_clf.fit(X_train, y_train)\n",
    "    y_pred = rf_clf.predict(X_test)\n",
    "    print('AUC : ', auc(y_test, y_pred),'\\n')\n",
    "    if report:\n",
    "        print(classification_report(y_test, y_pred))\n",
    "    if plot:\n",
    "        plot_cm(y_test, y_pred)\n",
    "\n",
    "    return y_pred\n",
    "\n",
    "y_pred = rf(X_train, y_train, X_test, y_test, plot = True, report = True)"
   ]
  },
  {
   "cell_type": "markdown",
   "metadata": {
    "id": "2GPkr7vG1YKO"
   },
   "source": [
    "##### test different parameter of RF (but it seems no difference)"
   ]
  },
  {
   "cell_type": "code",
   "execution_count": 46,
   "metadata": {
    "colab": {
     "base_uri": "https://localhost:8080/",
     "height": 520
    },
    "executionInfo": {
     "elapsed": 2581,
     "status": "ok",
     "timestamp": 1609210389812,
     "user": {
      "displayName": "陳韋翰",
      "photoUrl": "https://lh3.googleusercontent.com/a-/AOh14Ghi1AMrE6GtVMAxAHs-PKILXfKb-r-TU-g2C38=s64",
      "userId": "00149179302747416237"
     },
     "user_tz": -480
    },
    "id": "WmE2L2I05qJh",
    "outputId": "be45adf0-ab62-4199-e01e-363f8dbaa094"
   },
   "outputs": [
    {
     "name": "stdout",
     "output_type": "stream",
     "text": [
      "              precision    recall  f1-score   support\n",
      "\n",
      "          No       0.86      1.00      0.92       246\n",
      "         Yes       1.00      0.13      0.23        47\n",
      "\n",
      "    accuracy                           0.86       293\n",
      "   macro avg       0.93      0.56      0.57       293\n",
      "weighted avg       0.88      0.86      0.81       293\n",
      "\n",
      "AUC :  0.5638297872340425\n"
     ]
    },
    {
     "data": {
      "image/png": "[encoded data removed]",
      "text/plain": [
       "<Figure size 360x360 with 2 Axes>"
      ]
     },
     "metadata": {
      "needs_background": "light",
      "tags": []
     },
     "output_type": "display_data"
    }
   ],
   "source": [
    "# test oter parameter (max_features, max_depth)\n",
    "rf_clf = RandomForestClassifier(n_estimators = 100, max_features = 'sqrt', max_depth = 10)\n",
    "rf_clf.fit(X_train, y_train)\n",
    "y_pred = rf_clf.predict(X_test)\n",
    "print(classification_report(y_test, y_pred))\n",
    "print('AUC : ', auc(y_test, y_pred))\n",
    "plot_cm(y_test, y_pred)"
   ]
  },
  {
   "cell_type": "code",
   "execution_count": 47,
   "metadata": {
    "colab": {
     "base_uri": "https://localhost:8080/",
     "height": 520
    },
    "executionInfo": {
     "elapsed": 3098,
     "status": "ok",
     "timestamp": 1609210390340,
     "user": {
      "displayName": "陳韋翰",
      "photoUrl": "https://lh3.googleusercontent.com/a-/AOh14Ghi1AMrE6GtVMAxAHs-PKILXfKb-r-TU-g2C38=s64",
      "userId": "00149179302747416237"
     },
     "user_tz": -480
    },
    "id": "1r2-k-8p4qhJ",
    "outputId": "e34ff6b5-bbef-4cb7-d6af-24dff1aca4bb"
   },
   "outputs": [
    {
     "name": "stdout",
     "output_type": "stream",
     "text": [
      "              precision    recall  f1-score   support\n",
      "\n",
      "          No       0.86      1.00      0.92       246\n",
      "         Yes       0.86      0.13      0.22        47\n",
      "\n",
      "    accuracy                           0.86       293\n",
      "   macro avg       0.86      0.56      0.57       293\n",
      "weighted avg       0.86      0.86      0.81       293\n",
      "\n",
      "AUC :  0.5617972669088392\n"
     ]
    },
    {
     "data": {
      "image/png": "[encoded data removed]",
      "text/plain": [
       "<Figure size 360x360 with 2 Axes>"
      ]
     },
     "metadata": {
      "needs_background": "light",
      "tags": []
     },
     "output_type": "display_data"
    }
   ],
   "source": [
    "# test oter parameter (class_weight)\n",
    "rf_clf = RandomForestClassifier(n_estimators = 100, class_weight = 'balanced')\n",
    "rf_clf.fit(X_train, y_train)\n",
    "y_pred = rf_clf.predict(X_test)\n",
    "print(classification_report(y_test, y_pred))\n",
    "print('AUC : ', auc(y_test, y_pred))\n",
    "plot_cm(y_test, y_pred)"
   ]
  },
  {
   "cell_type": "code",
   "execution_count": 48,
   "metadata": {
    "colab": {
     "base_uri": "https://localhost:8080/",
     "height": 571
    },
    "executionInfo": {
     "elapsed": 3498,
     "status": "ok",
     "timestamp": 1609210390749,
     "user": {
      "displayName": "陳韋翰",
      "photoUrl": "https://lh3.googleusercontent.com/a-/AOh14Ghi1AMrE6GtVMAxAHs-PKILXfKb-r-TU-g2C38=s64",
      "userId": "00149179302747416237"
     },
     "user_tz": -480
    },
    "id": "KXp_NLXh143b",
    "outputId": "7883a4ee-da6b-4c0d-9c35-48c41d47f599"
   },
   "outputs": [
    {
     "name": "stdout",
     "output_type": "stream",
     "text": [
      "Least important feature :  EducationField_Human Resources \n",
      "\n",
      "\n",
      "              precision    recall  f1-score   support\n",
      "\n",
      "          No       0.86      1.00      0.92       246\n",
      "         Yes       0.88      0.15      0.25        47\n",
      "\n",
      "    accuracy                           0.86       293\n",
      "   macro avg       0.87      0.57      0.59       293\n",
      "weighted avg       0.86      0.86      0.82       293\n",
      "\n",
      "AUC :  0.5724355647811797\n"
     ]
    },
    {
     "data": {
      "image/png": "[encoded data removed]",
      "text/plain": [
       "<Figure size 360x360 with 2 Axes>"
      ]
     },
     "metadata": {
      "needs_background": "light",
      "tags": []
     },
     "output_type": "display_data"
    }
   ],
   "source": [
    "# delete the less important feature\n",
    "less_imp = X_train.columns[np.argmin(rf_clf.feature_importances_)]\n",
    "print('Least important feature : ', less_imp, '\\n\\n')\n",
    "X_train_drop = X_train.drop([less_imp], axis=1)\n",
    "X_test_drop = X_test.drop([less_imp], axis=1)\n",
    "\n",
    "rf_clf = RandomForestClassifier(n_estimators = 100)\n",
    "rf_clf.fit(X_train_drop, y_train)\n",
    "y_pred = rf_clf.predict(X_test_drop)\n",
    "print(classification_report(y_test, y_pred))\n",
    "print('AUC : ', auc(y_test, y_pred))\n",
    "plot_cm(y_test, y_pred)"
   ]
  },
  {
   "cell_type": "markdown",
   "metadata": {
    "id": "vcPjtwPl2km4"
   },
   "source": [
    "#### svm"
   ]
  },
  {
   "cell_type": "code",
   "execution_count": 49,
   "metadata": {
    "colab": {
     "base_uri": "https://localhost:8080/",
     "height": 0
    },
    "executionInfo": {
     "elapsed": 3898,
     "status": "ok",
     "timestamp": 1609210391157,
     "user": {
      "displayName": "陳韋翰",
      "photoUrl": "https://lh3.googleusercontent.com/a-/AOh14Ghi1AMrE6GtVMAxAHs-PKILXfKb-r-TU-g2C38=s64",
      "userId": "00149179302747416237"
     },
     "user_tz": -480
    },
    "id": "v1d20zU_2mD6",
    "outputId": "fa494402-2744-45ce-c438-272b110e5174"
   },
   "outputs": [
    {
     "name": "stdout",
     "output_type": "stream",
     "text": [
      "AUC :  0.5 \n",
      "\n",
      "              precision    recall  f1-score   support\n",
      "\n",
      "          No       0.84      1.00      0.91       246\n",
      "         Yes       0.00      0.00      0.00        47\n",
      "\n",
      "    accuracy                           0.84       293\n",
      "   macro avg       0.42      0.50      0.46       293\n",
      "weighted avg       0.70      0.84      0.77       293\n",
      "\n"
     ]
    },
    {
     "name": "stderr",
     "output_type": "stream",
     "text": [
      "/usr/local/lib/python3.6/dist-packages/sklearn/metrics/_classification.py:1272: UndefinedMetricWarning: Precision and F-score are ill-defined and being set to 0.0 in labels with no predicted samples. Use `zero_division` parameter to control this behavior.\n",
      "  _warn_prf(average, modifier, msg_start, len(result))\n"
     ]
    },
    {
     "data": {
      "image/png": "[encoded data removed]",
      "text/plain": [
       "<Figure size 360x360 with 2 Axes>"
      ]
     },
     "metadata": {
      "needs_background": "light",
      "tags": []
     },
     "output_type": "display_data"
    }
   ],
   "source": [
    "def svc(X_train, y_train, X_test, y_test, plot = False, report = False):\n",
    "    svm_clf = SVC(kernel = 'rbf')\n",
    "    svm_clf.fit(X_train, y_train)\n",
    "    y_pred = svm_clf.predict(X_test)\n",
    "    print('AUC : ', auc(y_test, y_pred),'\\n')\n",
    "    if report:\n",
    "    print(classification_report(y_test, y_pred))\n",
    "    if plot:\n",
    "    plot_cm(y_test, y_pred)\n",
    "    return y_pred\n",
    "\n",
    "\n",
    "y_pred = svc(X_train, y_train, X_test, y_test, plot = True, report = True)"
   ]
  },
  {
   "cell_type": "markdown",
   "metadata": {
    "id": "axKuhSxhNvnu"
   },
   "source": [
    "#### xgb"
   ]
  },
  {
   "cell_type": "code",
   "execution_count": 50,
   "metadata": {
    "colab": {
     "base_uri": "https://localhost:8080/",
     "height": 537
    },
    "executionInfo": {
     "elapsed": 4428,
     "status": "ok",
     "timestamp": 1609210391695,
     "user": {
      "displayName": "陳韋翰",
      "photoUrl": "https://lh3.googleusercontent.com/a-/AOh14Ghi1AMrE6GtVMAxAHs-PKILXfKb-r-TU-g2C38=s64",
      "userId": "00149179302747416237"
     },
     "user_tz": -480
    },
    "id": "oYqoANV9Nx4F",
    "outputId": "aef3d938-5e8b-4cfb-f065-834fdd30df32"
   },
   "outputs": [
    {
     "name": "stdout",
     "output_type": "stream",
     "text": [
      "AUC :  0.5982528974225912 \n",
      "\n",
      "              precision    recall  f1-score   support\n",
      "\n",
      "          No       0.87      0.98      0.92       246\n",
      "         Yes       0.71      0.21      0.33        47\n",
      "\n",
      "    accuracy                           0.86       293\n",
      "   macro avg       0.79      0.60      0.62       293\n",
      "weighted avg       0.84      0.86      0.83       293\n",
      "\n"
     ]
    },
    {
     "data": {
      "image/png": "[encoded data removed]",
      "text/plain": [
       "<Figure size 360x360 with 2 Axes>"
      ]
     },
     "metadata": {
      "needs_background": "light",
      "tags": []
     },
     "output_type": "display_data"
    }
   ],
   "source": [
    "from xgboost import XGBClassifier\n",
    "\n",
    "def xgb(X_train, y_train, X_test, y_test, plot = False, report = False):\n",
    "    xgb_clf = XGBClassifier()\n",
    "    xgb_clf.fit(X_train, y_train)\n",
    "    y_pred = xgb_clf.predict(X_test)\n",
    "    print('AUC : ', auc(y_test, y_pred), '\\n')\n",
    "    if report:\n",
    "        print(classification_report(y_test, y_pred))\n",
    "    if plot:\n",
    "        plot_cm(y_test, y_pred)\n",
    "    return y_pred\n",
    "\n",
    "\n",
    "y_pred = xgb(X_train, y_train, X_test, y_test, plot = True, report = True)"
   ]
  },
  {
   "cell_type": "markdown",
   "metadata": {
    "id": "GF1f37OO4-Lb"
   },
   "source": [
    "## Experiment"
   ]
  },
  {
   "cell_type": "markdown",
   "metadata": {
    "id": "o62eTLmd8t3Q"
   },
   "source": [
    "#### overall (all classifier without oversampling and pca)"
   ]
  },
  {
   "cell_type": "code",
   "execution_count": 92,
   "metadata": {
    "colab": {
     "base_uri": "https://localhost:8080/"
    },
    "executionInfo": {
     "elapsed": 2003,
     "status": "ok",
     "timestamp": 1609211326398,
     "user": {
      "displayName": "陳韋翰",
      "photoUrl": "https://lh3.googleusercontent.com/a-/AOh14Ghi1AMrE6GtVMAxAHs-PKILXfKb-r-TU-g2C38=s64",
      "userId": "00149179302747416237"
     },
     "user_tz": -480
    },
    "id": "zZCP1bRA-BPV",
    "outputId": "387ce5ed-b405-4ac4-e21f-05cfb6477423"
   },
   "outputs": [
    {
     "name": "stdout",
     "output_type": "stream",
     "text": [
      "\n",
      "\n",
      "Random Forest : \n",
      "\n",
      "AUC :  0.5916796402006572 \n",
      "\n",
      "              precision    recall  f1-score   support\n",
      "\n",
      "          No       0.87      0.99      0.92       246\n",
      "         Yes       0.82      0.19      0.31        47\n",
      "\n",
      "    accuracy                           0.86       293\n",
      "   macro avg       0.84      0.59      0.62       293\n",
      "weighted avg       0.86      0.86      0.83       293\n",
      "\n",
      "\n",
      "\n",
      "SVC : \n",
      "\n",
      "AUC :  0.5 \n",
      "\n",
      "              precision    recall  f1-score   support\n",
      "\n",
      "          No       0.84      1.00      0.91       246\n",
      "         Yes       0.00      0.00      0.00        47\n",
      "\n",
      "    accuracy                           0.84       293\n",
      "   macro avg       0.42      0.50      0.46       293\n",
      "weighted avg       0.70      0.84      0.77       293\n",
      "\n",
      "\n",
      "\n",
      "XGBoost : \n",
      "\n"
     ]
    },
    {
     "name": "stderr",
     "output_type": "stream",
     "text": [
      "/usr/local/lib/python3.6/dist-packages/sklearn/metrics/_classification.py:1272: UndefinedMetricWarning: Precision and F-score are ill-defined and being set to 0.0 in labels with no predicted samples. Use `zero_division` parameter to control this behavior.\n",
      "  _warn_prf(average, modifier, msg_start, len(result))\n"
     ]
    },
    {
     "name": "stdout",
     "output_type": "stream",
     "text": [
      "AUC :  0.5982528974225912 \n",
      "\n",
      "              precision    recall  f1-score   support\n",
      "\n",
      "          No       0.87      0.98      0.92       246\n",
      "         Yes       0.71      0.21      0.33        47\n",
      "\n",
      "    accuracy                           0.86       293\n",
      "   macro avg       0.79      0.60      0.62       293\n",
      "weighted avg       0.84      0.86      0.83       293\n",
      "\n"
     ]
    }
   ],
   "source": [
    "# X_train, X_test, y_train, y_test (has been done one-hot for catagorical features)\n",
    "\n",
    "# fit into classifier\n",
    "print('\\n\\nRandom Forest : \\n')\n",
    "y_pred_rf = rf(X_train, y_train, X_test, y_test, plot = False, report = True)\n",
    "print('\\n\\nSVC : \\n')\n",
    "y_pred_rf = svc(X_train, y_train, X_test, y_test, plot = False, report = True)\n",
    "print('\\n\\nXGBoost : \\n')\n",
    "y_pred_rf = xgb(X_train, y_train, X_test, y_test, plot = False, report = True)"
   ]
  },
  {
   "cell_type": "markdown",
   "metadata": {
    "id": "_lar07dDxfGk"
   },
   "source": [
    "#### four oversampling method effect (Random Forest)"
   ]
  },
  {
   "cell_type": "code",
   "execution_count": 225,
   "metadata": {
    "colab": {
     "base_uri": "https://localhost:8080/"
    },
    "executionInfo": {
     "elapsed": 2413,
     "status": "ok",
     "timestamp": 1609211926676,
     "user": {
      "displayName": "陳韋翰",
      "photoUrl": "https://lh3.googleusercontent.com/a-/AOh14Ghi1AMrE6GtVMAxAHs-PKILXfKb-r-TU-g2C38=s64",
      "userId": "00149179302747416237"
     },
     "user_tz": -480
    },
    "id": "XBmE1B_g5Bc1",
    "outputId": "9d9d791b-6510-4279-e0e8-05b028fbc722"
   },
   "outputs": [
    {
     "name": "stderr",
     "output_type": "stream",
     "text": [
      "/usr/local/lib/python3.6/dist-packages/sklearn/utils/deprecation.py:87: FutureWarning: Function safe_indexing is deprecated; safe_indexing is deprecated in version 0.22 and will be removed in version 0.24.\n",
      "  warnings.warn(msg, category=FutureWarning)\n",
      "/usr/local/lib/python3.6/dist-packages/sklearn/utils/deprecation.py:87: FutureWarning: Function safe_indexing is deprecated; safe_indexing is deprecated in version 0.22 and will be removed in version 0.24.\n",
      "  warnings.warn(msg, category=FutureWarning)\n",
      "/usr/local/lib/python3.6/dist-packages/sklearn/utils/deprecation.py:87: FutureWarning: Function safe_indexing is deprecated; safe_indexing is deprecated in version 0.22 and will be removed in version 0.24.\n",
      "  warnings.warn(msg, category=FutureWarning)\n",
      "/usr/local/lib/python3.6/dist-packages/sklearn/utils/deprecation.py:87: FutureWarning: Function safe_indexing is deprecated; safe_indexing is deprecated in version 0.22 and will be removed in version 0.24.\n",
      "  warnings.warn(msg, category=FutureWarning)\n",
      "/usr/local/lib/python3.6/dist-packages/sklearn/utils/deprecation.py:87: FutureWarning: Function safe_indexing is deprecated; safe_indexing is deprecated in version 0.22 and will be removed in version 0.24.\n",
      "  warnings.warn(msg, category=FutureWarning)\n",
      "/usr/local/lib/python3.6/dist-packages/sklearn/utils/deprecation.py:87: FutureWarning: Function safe_indexing is deprecated; safe_indexing is deprecated in version 0.22 and will be removed in version 0.24.\n",
      "  warnings.warn(msg, category=FutureWarning)\n",
      "/usr/local/lib/python3.6/dist-packages/sklearn/utils/deprecation.py:87: FutureWarning: Function safe_indexing is deprecated; safe_indexing is deprecated in version 0.22 and will be removed in version 0.24.\n",
      "  warnings.warn(msg, category=FutureWarning)\n"
     ]
    },
    {
     "name": "stdout",
     "output_type": "stream",
     "text": [
      "\n",
      "\n",
      "Original : \n",
      "\n",
      "AUC :  0.5916796402006572 \n",
      "\n",
      "\n",
      "\n",
      "SMOTE : \n",
      "\n",
      "AUC :  0.6367410482615464 \n",
      "\n",
      "\n",
      "\n",
      "SMOTE + Tomek : \n",
      "\n",
      "AUC :  0.6286109669607334 \n",
      "\n",
      "\n",
      "\n",
      "SMOTE + ENN : \n",
      "\n",
      "AUC :  0.7110793980280229 \n",
      "\n"
     ]
    }
   ],
   "source": [
    "# to see four oversampling method with Random Forest\n",
    "\n",
    "x_smote, y_smote = oversam(X_train, y_train, mode = 'SMOTE')\n",
    "x_smote_to, y_smote_to = oversam(X_train, y_train, mode = 'SMOTETomek')\n",
    "x_smote_enn, y_smote_enn = oversam(X_train, y_train, mode = 'SMOTEENN')\n",
    "label_list = ['Original', 'Smote', 'Smote+Tomek', 'Smote+ENN']\n",
    "labels = ['No', 'Yes']\n",
    "\n",
    "print('\\n\\nOriginal : \\n')\n",
    "y_pred = rf(X_train, y_train, X_test, y_test)\n",
    "print('\\n\\nSMOTE : \\n')\n",
    "y_pred_smote = rf(x_smote, y_smote, X_test, y_test)\n",
    "print('\\n\\nSMOTE + Tomek : \\n')\n",
    "y_pred_smotetomek = rf(x_smote_to, y_smote_to, X_test, y_test)\n",
    "print('\\n\\nSMOTE + ENN : \\n')\n",
    "y_pred_smoteenn = rf(x_smote_enn, y_smote_enn, X_test, y_test)"
   ]
  },
  {
   "cell_type": "markdown",
   "metadata": {
    "id": "_vvq1B7yxms-"
   },
   "source": [
    "#### with and without pca (Random Forest) "
   ]
  },
  {
   "cell_type": "code",
   "execution_count": 119,
   "metadata": {
    "colab": {
     "base_uri": "https://localhost:8080/"
    },
    "executionInfo": {
     "elapsed": 2678,
     "status": "ok",
     "timestamp": 1609211537752,
     "user": {
      "displayName": "陳韋翰",
      "photoUrl": "https://lh3.googleusercontent.com/a-/AOh14Ghi1AMrE6GtVMAxAHs-PKILXfKb-r-TU-g2C38=s64",
      "userId": "00149179302747416237"
     },
     "user_tz": -480
    },
    "id": "Bvy20_oOxdky",
    "outputId": "d8dd14ad-26bf-4efe-9c1e-f2d0e7c6b1b5"
   },
   "outputs": [
    {
     "name": "stdout",
     "output_type": "stream",
     "text": [
      "\n",
      "\n",
      "PCA with n = 2 : \n",
      "AUC :  0.5242605085625324 \n",
      "\n",
      "\n",
      "\n",
      "PCA with n = 5 : \n",
      "AUC :  0.5749437813527072 \n",
      "\n",
      "\n",
      "\n",
      "PCA with n = 10 : \n",
      "AUC :  0.5536671856080263 \n",
      "\n"
     ]
    }
   ],
   "source": [
    "# to see how PCA effect with Random Forest\n",
    "\n",
    "x_train_pc2, x_test_pc2 = pca_dec(X_train, X_test, 2)\n",
    "x_train_pc5, x_test_pc5 = pca_dec(X_train, X_test, 5)\n",
    "x_train_pc10, x_test_pc10 = pca_dec(X_train, X_test, 10)\n",
    "\n",
    "label_list = ['Original', 'pca with 2 component', 'pca with 5 component', 'pca with 10 component']\n",
    "labels = ['No', 'Yes']\n",
    "\n",
    "print('\\n\\nPCA with n = 2 : ')\n",
    "y_pred_2 = rf(x_train_pc2, y_train, x_test_pc2, y_test)\n",
    "print('\\n\\nPCA with n = 5 : ')\n",
    "y_pred_5 = rf(x_train_pc5, y_train, x_test_pc5, y_test)\n",
    "print('\\n\\nPCA with n = 10 : ')\n",
    "y_pred_10 = rf(x_train_pc10, y_train, x_test_pc10, y_test)\n"
   ]
  },
  {
   "cell_type": "markdown",
   "metadata": {
    "id": "T4XuOQwT1oNf"
   },
   "source": [
    "#### overasmpling + pca (Random Forest) "
   ]
  },
  {
   "cell_type": "code",
   "execution_count": 37,
   "metadata": {
    "colab": {
     "base_uri": "https://localhost:8080/"
    },
    "executionInfo": {
     "elapsed": 2556,
     "status": "ok",
     "timestamp": 1609209759031,
     "user": {
      "displayName": "陳韋翰",
      "photoUrl": "https://lh3.googleusercontent.com/a-/AOh14Ghi1AMrE6GtVMAxAHs-PKILXfKb-r-TU-g2C38=s64",
      "userId": "00149179302747416237"
     },
     "user_tz": -480
    },
    "id": "iuKuWoUK1rXc",
    "outputId": "ca3d63ff-ee31-453f-c57b-b75ed5b47d35"
   },
   "outputs": [
    {
     "name": "stderr",
     "output_type": "stream",
     "text": [
      "/usr/local/lib/python3.6/dist-packages/sklearn/utils/deprecation.py:87: FutureWarning: Function safe_indexing is deprecated; safe_indexing is deprecated in version 0.22 and will be removed in version 0.24.\n",
      "  warnings.warn(msg, category=FutureWarning)\n",
      "/usr/local/lib/python3.6/dist-packages/sklearn/utils/deprecation.py:87: FutureWarning: Function safe_indexing is deprecated; safe_indexing is deprecated in version 0.22 and will be removed in version 0.24.\n",
      "  warnings.warn(msg, category=FutureWarning)\n",
      "/usr/local/lib/python3.6/dist-packages/sklearn/utils/deprecation.py:87: FutureWarning: Function safe_indexing is deprecated; safe_indexing is deprecated in version 0.22 and will be removed in version 0.24.\n",
      "  warnings.warn(msg, category=FutureWarning)\n",
      "/usr/local/lib/python3.6/dist-packages/sklearn/utils/deprecation.py:87: FutureWarning: Function safe_indexing is deprecated; safe_indexing is deprecated in version 0.22 and will be removed in version 0.24.\n",
      "  warnings.warn(msg, category=FutureWarning)\n"
     ]
    },
    {
     "name": "stdout",
     "output_type": "stream",
     "text": [
      "\n",
      "\n",
      "Oversample + PCA with n = 2\n",
      "\n",
      "AUC :  0.6013233004670472 \n",
      "\n",
      "\n",
      "\n",
      "Oversample + PCA with n = 5\n",
      "\n",
      "AUC :  0.6141238540044974 \n",
      "\n",
      "\n",
      "\n",
      "Oversample + PCA with n = 10\n",
      "\n",
      "AUC :  0.5892579138557342 \n",
      "\n"
     ]
    }
   ],
   "source": [
    "# do oversample for training data \n",
    "# here I choose Smote+ENN method\n",
    "X_train_over, y_train_over = oversam(X_train, y_train, mode = 'SMOTEENN')\n",
    "\n",
    "# do pca \n",
    "X_train_pc2, X_test_pc2 = pca_dec(X_train_over, X_test, 2)\n",
    "X_train_pc5, X_test_pc5 = pca_dec(X_train_over, X_test, 10)\n",
    "X_train_pc10, X_test_pc10 = pca_dec(X_train_over, X_test, 10)\n",
    "\n",
    "# fit into random forest\n",
    "print('\\n\\nOversample + PCA with n = 2\\n')\n",
    "y_pred_2 = rf(X_train_pc2, y_train_over, X_test_pc2, y_test)\n",
    "print('\\n\\nOversample + PCA with n = 5\\n')\n",
    "y_pred_5 = rf(X_train_pc5, y_train_over, X_test_pc5, y_test)\n",
    "print('\\n\\nOversample + PCA with n = 10\\n')\n",
    "y_pred_10 = rf(X_train_pc10, y_train_over, X_test_pc10, y_test)"
   ]
  },
  {
   "cell_type": "markdown",
   "metadata": {
    "id": "afTwApa_5mA3"
   },
   "source": [
    "`\n",
    "but it seems that with oversampling and pca didn't go well, so I will not use pca\n",
    "`"
   ]
  },
  {
   "cell_type": "markdown",
   "metadata": {
    "id": "Wf07ss0s8FOT"
   },
   "source": [
    "#### overall (all classifier with oversampling)"
   ]
  },
  {
   "cell_type": "code",
   "execution_count": 181,
   "metadata": {
    "colab": {
     "base_uri": "https://localhost:8080/"
    },
    "executionInfo": {
     "elapsed": 1849,
     "status": "ok",
     "timestamp": 1609211745423,
     "user": {
      "displayName": "陳韋翰",
      "photoUrl": "https://lh3.googleusercontent.com/a-/AOh14Ghi1AMrE6GtVMAxAHs-PKILXfKb-r-TU-g2C38=s64",
      "userId": "00149179302747416237"
     },
     "user_tz": -480
    },
    "id": "AWYpIKo68MTl",
    "outputId": "d6cd3f85-f7df-4751-d89b-d82ab60a828b"
   },
   "outputs": [
    {
     "name": "stderr",
     "output_type": "stream",
     "text": [
      "/usr/local/lib/python3.6/dist-packages/sklearn/utils/deprecation.py:87: FutureWarning: Function safe_indexing is deprecated; safe_indexing is deprecated in version 0.22 and will be removed in version 0.24.\n",
      "  warnings.warn(msg, category=FutureWarning)\n",
      "/usr/local/lib/python3.6/dist-packages/sklearn/utils/deprecation.py:87: FutureWarning: Function safe_indexing is deprecated; safe_indexing is deprecated in version 0.22 and will be removed in version 0.24.\n",
      "  warnings.warn(msg, category=FutureWarning)\n",
      "/usr/local/lib/python3.6/dist-packages/sklearn/utils/deprecation.py:87: FutureWarning: Function safe_indexing is deprecated; safe_indexing is deprecated in version 0.22 and will be removed in version 0.24.\n",
      "  warnings.warn(msg, category=FutureWarning)\n",
      "/usr/local/lib/python3.6/dist-packages/sklearn/utils/deprecation.py:87: FutureWarning: Function safe_indexing is deprecated; safe_indexing is deprecated in version 0.22 and will be removed in version 0.24.\n",
      "  warnings.warn(msg, category=FutureWarning)\n"
     ]
    },
    {
     "name": "stdout",
     "output_type": "stream",
     "text": [
      "\n",
      "\n",
      "Random Forest : \n",
      "\n",
      "AUC :  0.7110793980280229 \n",
      "\n",
      "              precision    recall  f1-score   support\n",
      "\n",
      "          No       0.91      0.89      0.90       246\n",
      "         Yes       0.48      0.53      0.51        47\n",
      "\n",
      "    accuracy                           0.83       293\n",
      "   macro avg       0.69      0.71      0.70       293\n",
      "weighted avg       0.84      0.83      0.84       293\n",
      "\n",
      "\n",
      "\n",
      "SVC : \n",
      "\n",
      "AUC :  0.6271406331084587 \n",
      "\n",
      "              precision    recall  f1-score   support\n",
      "\n",
      "          No       0.90      0.66      0.76       246\n",
      "         Yes       0.25      0.60      0.35        47\n",
      "\n",
      "    accuracy                           0.65       293\n",
      "   macro avg       0.57      0.63      0.56       293\n",
      "weighted avg       0.79      0.65      0.69       293\n",
      "\n",
      "\n",
      "\n",
      "XGBoost : \n",
      "\n",
      "AUC :  0.703425012973534 \n",
      "\n",
      "              precision    recall  f1-score   support\n",
      "\n",
      "          No       0.91      0.85      0.88       246\n",
      "         Yes       0.42      0.55      0.48        47\n",
      "\n",
      "    accuracy                           0.81       293\n",
      "   macro avg       0.66      0.70      0.68       293\n",
      "weighted avg       0.83      0.81      0.82       293\n",
      "\n"
     ]
    }
   ],
   "source": [
    "# X_train, X_test, y_train, y_test (has been done one-hot for catagorical features)\n",
    "\n",
    "# oversaampling\n",
    "# here I choose Smote+ENN method\n",
    "X_train_over, y_train_over = oversam(X_train, y_train, mode = 'SMOTEENN')\n",
    "\n",
    "# fit into classifier\n",
    "print('\\n\\nRandom Forest : \\n')\n",
    "y_pred_rf = rf(X_train_over, y_train_over, X_test, y_test, plot = False, report = True)\n",
    "print('\\n\\nSVC : \\n')\n",
    "y_pred_rf = svc(X_train_over, y_train_over, X_test, y_test, plot = False, report = True)\n",
    "print('\\n\\nXGBoost : \\n')\n",
    "y_pred_rf = xgb(X_train_over, y_train_over, X_test, y_test, plot = False, report = True)"
   ]
  }
 ],
 "metadata": {
  "colab": {
   "authorship_tag": "ABX9TyNuSv793FEfyo3GQvYfZDC4",
   "collapsed_sections": [
    "PMySzA5l1Vy_",
    "2G5u2L7HyIuc",
    "Zsz-t4UHV9SJ",
    "3-JaeJjbyMju",
    "C7HUt8eD2iy4",
    "2GPkr7vG1YKO",
    "vcPjtwPl2km4",
    "axKuhSxhNvnu",
    "_lar07dDxfGk",
    "_vvq1B7yxms-",
    "T4XuOQwT1oNf",
    "o62eTLmd8t3Q",
    "Wf07ss0s8FOT"
   ],
   "name": "DMA2.ipynb",
   "provenance": []
  },
  "kernelspec": {
   "display_name": "Python 3",
   "language": "python",
   "name": "python3"
  },
  "language_info": {
   "codemirror_mode": {
    "name": "ipython",
    "version": 3
   },
   "file_extension": ".py",
   "mimetype": "text/x-python",
   "name": "python",
   "nbconvert_exporter": "python",
   "pygments_lexer": "ipython3",
   "version": "3.8.5"
  }
 },
 "nbformat": 4,
 "nbformat_minor": 1
}
